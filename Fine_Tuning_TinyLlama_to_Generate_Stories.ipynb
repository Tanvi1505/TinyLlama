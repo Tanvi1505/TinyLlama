{
  "cells": [
    {
      "cell_type": "markdown",
      "metadata": {
        "id": "view-in-github",
        "colab_type": "text"
      },
      "source": [
        "<a href=\"https://colab.research.google.com/github/Tanvi1505/TinyLlama/blob/main/Fine_Tuning_TinyLlama_to_Generate_Stories.ipynb\" target=\"_parent\"><img src=\"https://colab.research.google.com/assets/colab-badge.svg\" alt=\"Open In Colab\"/></a>"
      ]
    },
    {
      "cell_type": "markdown",
      "metadata": {
        "id": "uHaZJHe2dnl2"
      },
      "source": [
        "#  Fine-tuning TinyLlama to generate stories\n"
      ]
    },
    {
      "cell_type": "code",
      "execution_count": null,
      "metadata": {
        "colab": {
          "base_uri": "https://localhost:8080/"
        },
        "id": "_TSZ5d-QdqiO",
        "outputId": "6e58bc91-ef4b-4923-a6b0-ac1b1f32c176"
      },
      "outputs": [
        {
          "output_type": "stream",
          "name": "stdout",
          "text": [
            "\u001b[2K     \u001b[90m━━━━━━━━━━━━━━━━━━━━━━━━━━━━━━━━━━━━━━━━\u001b[0m \u001b[32m116.9/116.9 kB\u001b[0m \u001b[31m6.8 MB/s\u001b[0m eta \u001b[36m0:00:00\u001b[0m\n",
            "\u001b[2K   \u001b[90m━━━━━━━━━━━━━━━━━━━━━━━━━━━━━━━━━━━━━━━━\u001b[0m \u001b[32m244.2/244.2 kB\u001b[0m \u001b[31m14.4 MB/s\u001b[0m eta \u001b[36m0:00:00\u001b[0m\n",
            "\u001b[2K   \u001b[90m━━━━━━━━━━━━━━━━━━━━━━━━━━━━━━━━━━━━━━━━\u001b[0m \u001b[32m72.9/72.9 kB\u001b[0m \u001b[31m4.7 MB/s\u001b[0m eta \u001b[36m0:00:00\u001b[0m\n",
            "\u001b[2K   \u001b[90m━━━━━━━━━━━━━━━━━━━━━━━━━━━━━━━━━━━━━━━━\u001b[0m \u001b[32m92.5/92.5 MB\u001b[0m \u001b[31m6.7 MB/s\u001b[0m eta \u001b[36m0:00:00\u001b[0m\n",
            "\u001b[2K   \u001b[90m━━━━━━━━━━━━━━━━━━━━━━━━━━━━━━━━━━━━━━━━\u001b[0m \u001b[32m7.4/7.4 MB\u001b[0m \u001b[31m29.7 MB/s\u001b[0m eta \u001b[36m0:00:00\u001b[0m\n",
            "\u001b[2K   \u001b[90m━━━━━━━━━━━━━━━━━━━━━━━━━━━━━━━━━━━━━━━━\u001b[0m \u001b[32m77.4/77.4 kB\u001b[0m \u001b[31m6.7 MB/s\u001b[0m eta \u001b[36m0:00:00\u001b[0m\n",
            "\u001b[2K   \u001b[90m━━━━━━━━━━━━━━━━━━━━━━━━━━━━━━━━━━━━━━━━\u001b[0m \u001b[32m7.8/7.8 MB\u001b[0m \u001b[31m32.6 MB/s\u001b[0m eta \u001b[36m0:00:00\u001b[0m\n",
            "\u001b[2K   \u001b[90m━━━━━━━━━━━━━━━━━━━━━━━━━━━━━━━━━━━━━━━━\u001b[0m \u001b[32m480.6/480.6 kB\u001b[0m \u001b[31m20.8 MB/s\u001b[0m eta \u001b[36m0:00:00\u001b[0m\n",
            "\u001b[2K   \u001b[90m━━━━━━━━━━━━━━━━━━━━━━━━━━━━━━━━━━━━━━━━\u001b[0m \u001b[32m116.3/116.3 kB\u001b[0m \u001b[31m8.3 MB/s\u001b[0m eta \u001b[36m0:00:00\u001b[0m\n",
            "\u001b[2K   \u001b[90m━━━━━━━━━━━━━━━━━━━━━━━━━━━━━━━━━━━━━━━━\u001b[0m \u001b[32m179.3/179.3 kB\u001b[0m \u001b[31m12.3 MB/s\u001b[0m eta \u001b[36m0:00:00\u001b[0m\n",
            "\u001b[2K   \u001b[90m━━━━━━━━━━━━━━━━━━━━━━━━━━━━━━━━━━━━━━━━\u001b[0m \u001b[32m134.8/134.8 kB\u001b[0m \u001b[31m4.0 MB/s\u001b[0m eta \u001b[36m0:00:00\u001b[0m\n",
            "\u001b[2K   \u001b[90m━━━━━━━━━━━━━━━━━━━━━━━━━━━━━━━━━━━━━━━━\u001b[0m \u001b[32m194.1/194.1 kB\u001b[0m \u001b[31m16.3 MB/s\u001b[0m eta \u001b[36m0:00:00\u001b[0m\n",
            "\u001b[?25h\u001b[31mERROR: pip's dependency resolver does not currently take into account all the packages that are installed. This behaviour is the source of the following dependency conflicts.\n",
            "gcsfs 2024.10.0 requires fsspec==2024.10.0, but you have fsspec 2024.9.0 which is incompatible.\n",
            "sentence-transformers 3.2.1 requires transformers<5.0.0,>=4.41.0, but you have transformers 4.31.0 which is incompatible.\u001b[0m\u001b[31m\n",
            "\u001b[0m"
          ]
        }
      ],
      "source": [
        "!pip install -q accelerate==0.21.0 peft==0.4.0 bitsandbytes==0.40.2 transformers==4.31.0 trl==0.4.7"
      ]
    },
    {
      "cell_type": "code",
      "execution_count": null,
      "metadata": {
        "id": "4ovBO7uJd4M8"
      },
      "outputs": [],
      "source": [
        "import os\n",
        "import torch\n",
        "from datasets import load_dataset\n",
        "from transformers import (\n",
        "    AutoModelForCausalLM,\n",
        "    AutoTokenizer,\n",
        "    BitsAndBytesConfig,\n",
        "    HfArgumentParser,\n",
        "    TrainingArguments,\n",
        "    pipeline,\n",
        "    logging,\n",
        ")\n",
        "from peft import LoraConfig, PeftModel\n",
        "from trl import SFTTrainer"
      ]
    },
    {
      "cell_type": "code",
      "execution_count": null,
      "metadata": {
        "id": "gWW5z0M0l2wb"
      },
      "outputs": [],
      "source": [
        "import wandb"
      ]
    },
    {
      "cell_type": "code",
      "execution_count": null,
      "metadata": {
        "colab": {
          "base_uri": "https://localhost:8080/",
          "height": 234
        },
        "id": "kfdtPrQYl55z",
        "outputId": "7523893c-3f8c-48d1-ab78-b3c6ec934dc5"
      },
      "outputs": [
        {
          "output_type": "stream",
          "name": "stderr",
          "text": [
            "\u001b[34m\u001b[1mwandb\u001b[0m: Using wandb-core as the SDK backend.  Please refer to https://wandb.me/wandb-core for more information.\n"
          ]
        },
        {
          "output_type": "display_data",
          "data": {
            "text/plain": [
              "<IPython.core.display.Javascript object>"
            ],
            "application/javascript": [
              "\n",
              "        window._wandbApiKey = new Promise((resolve, reject) => {\n",
              "            function loadScript(url) {\n",
              "            return new Promise(function(resolve, reject) {\n",
              "                let newScript = document.createElement(\"script\");\n",
              "                newScript.onerror = reject;\n",
              "                newScript.onload = resolve;\n",
              "                document.body.appendChild(newScript);\n",
              "                newScript.src = url;\n",
              "            });\n",
              "            }\n",
              "            loadScript(\"https://cdn.jsdelivr.net/npm/postmate/build/postmate.min.js\").then(() => {\n",
              "            const iframe = document.createElement('iframe')\n",
              "            iframe.style.cssText = \"width:0;height:0;border:none\"\n",
              "            document.body.appendChild(iframe)\n",
              "            const handshake = new Postmate({\n",
              "                container: iframe,\n",
              "                url: 'https://wandb.ai/authorize'\n",
              "            });\n",
              "            const timeout = setTimeout(() => reject(\"Couldn't auto authenticate\"), 5000)\n",
              "            handshake.then(function(child) {\n",
              "                child.on('authorize', data => {\n",
              "                    clearTimeout(timeout)\n",
              "                    resolve(data)\n",
              "                });\n",
              "            });\n",
              "            })\n",
              "        });\n",
              "    "
            ]
          },
          "metadata": {}
        },
        {
          "output_type": "stream",
          "name": "stderr",
          "text": [
            "\u001b[34m\u001b[1mwandb\u001b[0m: Logging into wandb.ai. (Learn how to deploy a W&B server locally: https://wandb.me/wandb-server)\n",
            "\u001b[34m\u001b[1mwandb\u001b[0m: You can find your API key in your browser here: https://wandb.ai/authorize\n",
            "wandb: Paste an API key from your profile and hit enter, or press ctrl+c to quit:"
          ]
        },
        {
          "name": "stdout",
          "output_type": "stream",
          "text": [
            " ··········\n"
          ]
        },
        {
          "output_type": "stream",
          "name": "stderr",
          "text": [
            "\u001b[34m\u001b[1mwandb\u001b[0m: Appending key for api.wandb.ai to your netrc file: /root/.netrc\n"
          ]
        },
        {
          "output_type": "display_data",
          "data": {
            "text/plain": [
              "<IPython.core.display.HTML object>"
            ],
            "text/html": [
              "Tracking run with wandb version 0.18.7"
            ]
          },
          "metadata": {}
        },
        {
          "output_type": "display_data",
          "data": {
            "text/plain": [
              "<IPython.core.display.HTML object>"
            ],
            "text/html": [
              "Run data is saved locally in <code>/content/wandb/run-20241216_011824-hzfnzce8</code>"
            ]
          },
          "metadata": {}
        },
        {
          "output_type": "display_data",
          "data": {
            "text/plain": [
              "<IPython.core.display.HTML object>"
            ],
            "text/html": [
              "Syncing run <strong><a href='https://wandb.ai/poojareddykolimi-indiana-university/fine-tuning-llama-hw4q2/runs/hzfnzce8' target=\"_blank\">tiny-llama-fine-tuning</a></strong> to <a href='https://wandb.ai/poojareddykolimi-indiana-university/fine-tuning-llama-hw4q2' target=\"_blank\">Weights & Biases</a> (<a href='https://wandb.me/developer-guide' target=\"_blank\">docs</a>)<br/>"
            ]
          },
          "metadata": {}
        },
        {
          "output_type": "display_data",
          "data": {
            "text/plain": [
              "<IPython.core.display.HTML object>"
            ],
            "text/html": [
              " View project at <a href='https://wandb.ai/poojareddykolimi-indiana-university/fine-tuning-llama-hw4q2' target=\"_blank\">https://wandb.ai/poojareddykolimi-indiana-university/fine-tuning-llama-hw4q2</a>"
            ]
          },
          "metadata": {}
        },
        {
          "output_type": "display_data",
          "data": {
            "text/plain": [
              "<IPython.core.display.HTML object>"
            ],
            "text/html": [
              " View run at <a href='https://wandb.ai/poojareddykolimi-indiana-university/fine-tuning-llama-hw4q2/runs/hzfnzce8' target=\"_blank\">https://wandb.ai/poojareddykolimi-indiana-university/fine-tuning-llama-hw4q2/runs/hzfnzce8</a>"
            ]
          },
          "metadata": {}
        },
        {
          "output_type": "execute_result",
          "data": {
            "text/html": [
              "<button onClick=\"this.nextSibling.style.display='block';this.style.display='none';\">Display W&B run</button><iframe src='https://wandb.ai/poojareddykolimi-indiana-university/fine-tuning-llama-hw4q2/runs/hzfnzce8?jupyter=true' style='border:none;width:100%;height:420px;display:none;'></iframe>"
            ],
            "text/plain": [
              "<wandb.sdk.wandb_run.Run at 0x7b87ce5b6290>"
            ]
          },
          "metadata": {},
          "execution_count": 6
        }
      ],
      "source": [
        "wandb.init(\n",
        "    project=\"fine-tuning-llama-hw4q2\",  # Name of the project\n",
        "    name=\"tiny-llama-fine-tuning\",     # Name of this specific run\n",
        "    tags=[\"fine-tuning\", \"llama\", \"hw4\"],  # Optional: Tags for easier filterin\n",
        ")\n"
      ]
    },
    {
      "cell_type": "code",
      "execution_count": null,
      "metadata": {
        "id": "qiP8Etw9d79T"
      },
      "outputs": [],
      "source": [
        "# The model that you want to train from the Hugging Face hub\n",
        "model_name = \"TinyLlama/TinyLlama-1.1B-Chat-v1.0\"\n",
        "\n",
        "# The instruction dataset to use\n",
        "\n",
        "dataset_name = \"FareedKhan/1k_stories_100_genre\"\n",
        "\n",
        "# Fine-tuned model name\n",
        "new_model = \"llama-2-7b-miniguanaco\"\n",
        "\n",
        "################################################################################\n",
        "# QLoRA parameters\n",
        "################################################################################\n",
        "\n",
        "# LoRA attention dimension\n",
        "lora_r = 64\n",
        "\n",
        "# Alpha parameter for LoRA scaling\n",
        "lora_alpha = 16\n",
        "\n",
        "# Dropout probability for LoRA layers\n",
        "lora_dropout = 0.1\n",
        "\n",
        "# Activate 4-bit precision base model loading\n",
        "use_4bit = True\n",
        "\n",
        "# Compute dtype for 4-bit base models\n",
        "bnb_4bit_compute_dtype = \"float16\"\n",
        "\n",
        "# Quantization type (fp4 or nf4)\n",
        "bnb_4bit_quant_type = \"nf4\"\n",
        "\n",
        "# Activate nested quantization for 4-bit base models (double quantization)\n",
        "use_nested_quant = False\n",
        "\n",
        "################################################################################\n",
        "# TrainingArguments parameters\n",
        "################################################################################\n",
        "\n",
        "# Output directory where the model predictions and checkpoints will be stored\n",
        "output_dir = \"./results\"\n",
        "\n",
        "# Number of training epochs\n",
        "num_train_epochs = 3\n",
        "\n",
        "# Enable fp16/bf16 training (set bf16 to True with an A100)\n",
        "fp16 = False\n",
        "bf16 = False\n",
        "\n",
        "# Batch size per GPU for training\n",
        "per_device_train_batch_size = 4\n",
        "\n",
        "# Batch size per GPU for evaluation\n",
        "per_device_eval_batch_size = 4\n",
        "\n",
        "# Number of update steps to accumulate the gradients for\n",
        "gradient_accumulation_steps = 1\n",
        "\n",
        "# Enable gradient checkpointing\n",
        "gradient_checkpointing = True\n",
        "\n",
        "# Maximum gradient normal (gradient clipping)\n",
        "max_grad_norm = 0.3\n",
        "\n",
        "# Initial learning rate (AdamW optimizer)\n",
        "learning_rate = 2e-4\n",
        "\n",
        "# Weight decay to apply to all layers except bias/LayerNorm weights\n",
        "weight_decay = 0.001\n",
        "\n",
        "# Optimizer to use\n",
        "optim = \"paged_adamw_32bit\"\n",
        "\n",
        "# Learning rate schedule\n",
        "lr_scheduler_type = \"cosine\"\n",
        "\n",
        "# Number of training steps (overrides num_train_epochs)\n",
        "max_steps = -1\n",
        "\n",
        "# Ratio of steps for a linear warmup (from 0 to learning rate)\n",
        "warmup_ratio = 0.03\n",
        "\n",
        "# Group sequences into batches with same length\n",
        "# Saves memory and speeds up training considerably\n",
        "group_by_length = True\n",
        "\n",
        "# Save checkpoint every X updates steps\n",
        "save_steps = 0\n",
        "\n",
        "# Log every X updates steps\n",
        "logging_steps = 25\n",
        "\n",
        "################################################################################\n",
        "# SFT parameters\n",
        "################################################################################\n",
        "\n",
        "# Maximum sequence length to use\n",
        "max_seq_length = None\n",
        "\n",
        "# Pack multiple short examples in the same input sequence to increase efficiency\n",
        "packing = False\n",
        "\n",
        "# Load the entire model on the GPU 0\n",
        "device_map = {\"\": 0}"
      ]
    },
    {
      "cell_type": "markdown",
      "source": [
        "Training Parameters for Efficient Resource Usage\n",
        "Batch Size (per_device_train_batch_size):\n",
        "Using a batch size of 4 for training and evaluation balances memory usage and training speed, ensuring the model fits within the available GPU memory.\n",
        "\n",
        "4-Bit Quantization:\n",
        "The model is loaded with 4-bit quantization to ensure it fits within the limited GPU memory of Colab.\n",
        "\n",
        "LoRA Fine-Tuning:\n",
        "LoRA fine-tuning is used instead of full fine-tuning, which only updates a small fraction of the model's parameters, reducing both memory and computational requirements.\n",
        "\n",
        "Gradient Checkpointing:\n",
        "Enabled to minimize memory usage during backpropagation by saving only essential intermediate states.\n",
        "\n",
        "Efficient Optimizer (paged_adamw_32bit):\n",
        "The use of this optimizer ensures low memory usage while maintaining computational efficiency."
      ],
      "metadata": {
        "id": "umaWsijElRzs"
      }
    },
    {
      "cell_type": "code",
      "execution_count": null,
      "metadata": {
        "id": "YlYLPQ-ff5U9"
      },
      "outputs": [],
      "source": [
        "# Load dataset (you can process it here)\n",
        "dataset = load_dataset(dataset_name)"
      ]
    },
    {
      "cell_type": "markdown",
      "source": [
        "This dataset contains 1000 stories spanning 100 different genres. Each story is represented in a tabular format using a dataframe.\n",
        "\n",
        "Average Length of Words\n",
        "Title: 6 words\n",
        "Story: 960 words\n",
        "\n",
        "This is a small dataset so taking complete dataset for training\n",
        "\n",
        "![image.png](data:image/png;base64,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)"
      ],
      "metadata": {
        "id": "yASC70O2fG1c"
      }
    },
    {
      "cell_type": "code",
      "source": [
        "# Load base model\n",
        "model = AutoModelForCausalLM.from_pretrained(\n",
        "    model_name,\n",
        "    quantization_config=bnb_config,\n",
        "    device_map=device_map\n",
        ")\n",
        "model.config.use_cache = False\n",
        "model.config.pretraining_tp = 1\n",
        "\n",
        "# Load LLaMA tokenizer\n",
        "tokenizer = AutoTokenizer.from_pretrained(model_name, trust_remote_code=True)\n",
        "tokenizer.pad_token = tokenizer.eos_token\n",
        "tokenizer.padding_side = \"right\" # Fix weird overflow issue with fp16 training\n"
      ],
      "metadata": {
        "colab": {
          "base_uri": "https://localhost:8080/"
        },
        "id": "3d1K1EivFbNt",
        "outputId": "047d42b9-a22a-4aa1-e65a-6b143eac531c"
      },
      "execution_count": null,
      "outputs": [
        {
          "output_type": "stream",
          "name": "stderr",
          "text": [
            "Some weights of LlamaForCausalLM were not initialized from the model checkpoint at TinyLlama/TinyLlama-1.1B-Chat-v1.0 and are newly initialized: ['model.layers.21.self_attn.rotary_emb.inv_freq', 'model.layers.19.self_attn.rotary_emb.inv_freq', 'model.layers.13.self_attn.rotary_emb.inv_freq', 'model.layers.7.self_attn.rotary_emb.inv_freq', 'model.layers.8.self_attn.rotary_emb.inv_freq', 'model.layers.1.self_attn.rotary_emb.inv_freq', 'model.layers.16.self_attn.rotary_emb.inv_freq', 'model.layers.17.self_attn.rotary_emb.inv_freq', 'model.layers.6.self_attn.rotary_emb.inv_freq', 'model.layers.15.self_attn.rotary_emb.inv_freq', 'model.layers.14.self_attn.rotary_emb.inv_freq', 'model.layers.9.self_attn.rotary_emb.inv_freq', 'model.layers.20.self_attn.rotary_emb.inv_freq', 'model.layers.2.self_attn.rotary_emb.inv_freq', 'model.layers.4.self_attn.rotary_emb.inv_freq', 'model.layers.18.self_attn.rotary_emb.inv_freq', 'model.layers.3.self_attn.rotary_emb.inv_freq', 'model.layers.12.self_attn.rotary_emb.inv_freq', 'model.layers.11.self_attn.rotary_emb.inv_freq', 'model.layers.5.self_attn.rotary_emb.inv_freq', 'model.layers.0.self_attn.rotary_emb.inv_freq', 'model.layers.10.self_attn.rotary_emb.inv_freq']\n",
            "You should probably TRAIN this model on a down-stream task to be able to use it for predictions and inference.\n"
          ]
        }
      ]
    },
    {
      "cell_type": "code",
      "source": [
        "prompt = \"There once was a girl named Terry\"\n",
        "pipe = pipeline(task=\"text-generation\", model=model, tokenizer=tokenizer, max_length=200)\n",
        "result = pipe(f\"<s>[INST] {prompt} [/INST]\")\n",
        "print(result[0]['generated_text'])"
      ],
      "metadata": {
        "colab": {
          "base_uri": "https://localhost:8080/"
        },
        "id": "Q51uQhWOFJMI",
        "outputId": "17ef9d30-c216-4811-f2d7-2e1c21f4da71"
      },
      "execution_count": null,
      "outputs": [
        {
          "output_type": "stream",
          "name": "stderr",
          "text": [
            "Xformers is not installed correctly. If you want to use memory_efficient_attention to accelerate training use the following command to install Xformers\n",
            "pip install xformers.\n"
          ]
        },
        {
          "output_type": "stream",
          "name": "stdout",
          "text": [
            "<s>[INST] There once was a girl named Terry [/INST]\n",
            "She was a little girl with big dreams [INST]\n",
            "But her parents couldn't afford [INST]\n",
            "So they sent her to live with an aunt [INST]\n",
            "Terry was happy in her new home [INST]\n",
            "But she missed her family and her friends [INST]\n",
            "So she decided to go back to her hometown [INST]\n",
            "And find a way to make ends meet [INST]\n",
            "Terry started working at a diner [INST]\n",
            "And saved every penny she earned [INST]\n",
            "She saved enough to buy a car [INST]\n",
            "And she drove to her hometown [INST]\n",
            "Terry arrived at her parents' house [INST]\n",
            "And they were overjoyed to see her [INST]\n",
            "They hugged her tightly and told her [INST]\n",
            "That they were proud of her and\n"
          ]
        }
      ]
    },
    {
      "cell_type": "code",
      "source": [
        "prompt = \"Once upon a time, in the Newyork\"\n",
        "pipe = pipeline(task=\"text-generation\", model=model, tokenizer=tokenizer, max_length=200)\n",
        "result = pipe(f\"<s>[INST] {prompt} [/INST]\")\n",
        "print(result[0]['generated_text'])"
      ],
      "metadata": {
        "colab": {
          "base_uri": "https://localhost:8080/"
        },
        "id": "3t5HYuRSF5zl",
        "outputId": "6704bf8b-10ae-432f-e101-476f90d0a0bd"
      },
      "execution_count": null,
      "outputs": [
        {
          "output_type": "stream",
          "name": "stdout",
          "text": [
            "<s>[INST] Once upon a time, in the Newyork [/INST] of the 1920s, there was a young woman named [NAME] who lived with her parents in a small apartment on [INST] Street. She was a bright and curious child, always eager to learn and explore the world around her. One day, while wandering through the city streets, she stumbled upon a strange and mysterious object. It was a small, glowing orb, with a strange, otherworldly energy emanating from it.\n",
            "\n",
            "As she approached the orb, she felt a strange sensation in her body, as if she were being drawn towards it. Suddenly, she felt a powerful force emanating from the orb, and she knew that she had to find out more about it.\n",
            "\n",
            "She spent the next few days exploring the orb, learning about its properties and how it worked. She discovered that it was\n"
          ]
        }
      ]
    },
    {
      "cell_type": "code",
      "execution_count": null,
      "metadata": {
        "colab": {
          "base_uri": "https://localhost:8080/",
          "height": 215,
          "referenced_widgets": [
            "8449d603d9e04ff6be1b4d9c7007aa83",
            "1179e01928904d858a3d0f2e903c30aa",
            "1086101f40c649ea85f6683904e556f0",
            "8ec958e3c49445fa9e9406625b51e35a",
            "4af98390d56449ecb2f1acb8e1265fd3",
            "827ea3e95a2743fbb920b87f8502a35e",
            "5ac4ffa2d7c04872aaa196925c2b00f9",
            "2d93701b629442fa83ad08a29f6822ae",
            "4ecdd1fb26f54994a9eee403cfc737c1",
            "89374bc21fea4336a3317cab23d90535",
            "bbeb1dbd97f54c0e900fa64d8bd3a280"
          ]
        },
        "id": "DtDfcJDLeEqK",
        "outputId": "d914faa5-356e-44e0-da1a-e056370d35cf"
      },
      "outputs": [
        {
          "output_type": "stream",
          "name": "stderr",
          "text": [
            "/usr/local/lib/python3.10/dist-packages/huggingface_hub/file_download.py:797: FutureWarning: `resume_download` is deprecated and will be removed in version 1.0.0. Downloads always resume when possible. If you want to force a new download, use `force_download=True`.\n",
            "  warnings.warn(\n",
            "Some weights of LlamaForCausalLM were not initialized from the model checkpoint at TinyLlama/TinyLlama-1.1B-Chat-v1.0 and are newly initialized: ['model.layers.21.self_attn.rotary_emb.inv_freq', 'model.layers.19.self_attn.rotary_emb.inv_freq', 'model.layers.13.self_attn.rotary_emb.inv_freq', 'model.layers.7.self_attn.rotary_emb.inv_freq', 'model.layers.8.self_attn.rotary_emb.inv_freq', 'model.layers.1.self_attn.rotary_emb.inv_freq', 'model.layers.16.self_attn.rotary_emb.inv_freq', 'model.layers.17.self_attn.rotary_emb.inv_freq', 'model.layers.6.self_attn.rotary_emb.inv_freq', 'model.layers.15.self_attn.rotary_emb.inv_freq', 'model.layers.14.self_attn.rotary_emb.inv_freq', 'model.layers.9.self_attn.rotary_emb.inv_freq', 'model.layers.20.self_attn.rotary_emb.inv_freq', 'model.layers.2.self_attn.rotary_emb.inv_freq', 'model.layers.4.self_attn.rotary_emb.inv_freq', 'model.layers.18.self_attn.rotary_emb.inv_freq', 'model.layers.3.self_attn.rotary_emb.inv_freq', 'model.layers.12.self_attn.rotary_emb.inv_freq', 'model.layers.11.self_attn.rotary_emb.inv_freq', 'model.layers.5.self_attn.rotary_emb.inv_freq', 'model.layers.0.self_attn.rotary_emb.inv_freq', 'model.layers.10.self_attn.rotary_emb.inv_freq']\n",
            "You should probably TRAIN this model on a down-stream task to be able to use it for predictions and inference.\n",
            "/usr/local/lib/python3.10/dist-packages/peft/utils/other.py:102: FutureWarning: prepare_model_for_int8_training is deprecated and will be removed in a future version. Use prepare_model_for_kbit_training instead.\n",
            "  warnings.warn(\n",
            "/usr/local/lib/python3.10/dist-packages/trl/trainer/sft_trainer.py:159: UserWarning: You didn't pass a `max_seq_length` argument to the SFTTrainer, this will default to 1024\n",
            "  warnings.warn(\n"
          ]
        },
        {
          "output_type": "display_data",
          "data": {
            "text/plain": [
              "Map:   0%|          | 0/999 [00:00<?, ? examples/s]"
            ],
            "application/vnd.jupyter.widget-view+json": {
              "version_major": 2,
              "version_minor": 0,
              "model_id": "8449d603d9e04ff6be1b4d9c7007aa83"
            }
          },
          "metadata": {}
        }
      ],
      "source": [
        "# Load tokenizer and model with QLoRA configuration\n",
        "compute_dtype = getattr(torch, bnb_4bit_compute_dtype)\n",
        "\n",
        "bnb_config = BitsAndBytesConfig(\n",
        "    load_in_4bit=use_4bit,\n",
        "    bnb_4bit_quant_type=bnb_4bit_quant_type,\n",
        "    bnb_4bit_compute_dtype=compute_dtype,\n",
        "    bnb_4bit_use_double_quant=use_nested_quant,\n",
        ")\n",
        "\n",
        "# Check GPU compatibility with bfloat16\n",
        "if compute_dtype == torch.float16 and use_4bit:\n",
        "    major, _ = torch.cuda.get_device_capability()\n",
        "    if major >= 8:\n",
        "        print(\"=\" * 80)\n",
        "        print(\"Your GPU supports bfloat16: accelerate training with bf16=True\")\n",
        "        print(\"=\" * 80)\n",
        "\n",
        "# Load base model\n",
        "model = AutoModelForCausalLM.from_pretrained(\n",
        "    model_name,\n",
        "    quantization_config=bnb_config,\n",
        "    device_map=device_map\n",
        ")\n",
        "model.config.use_cache = False\n",
        "model.config.pretraining_tp = 1\n",
        "\n",
        "# Load LLaMA tokenizer\n",
        "tokenizer = AutoTokenizer.from_pretrained(model_name, trust_remote_code=True)\n",
        "tokenizer.pad_token = tokenizer.eos_token\n",
        "tokenizer.padding_side = \"right\" # Fix weird overflow issue with fp16 training\n",
        "\n",
        "# Load LoRA configuration\n",
        "peft_config = LoraConfig(\n",
        "    lora_alpha=lora_alpha,\n",
        "    lora_dropout=lora_dropout,\n",
        "    r=lora_r,\n",
        "    bias=\"none\",\n",
        "    task_type=\"CAUSAL_LM\",\n",
        ")\n",
        "\n",
        "# Set training parameters\n",
        "training_arguments = TrainingArguments(\n",
        "    output_dir=output_dir,\n",
        "    num_train_epochs=num_train_epochs,\n",
        "    per_device_train_batch_size=per_device_train_batch_size,\n",
        "    gradient_accumulation_steps=gradient_accumulation_steps,\n",
        "    optim=optim,\n",
        "    save_steps=save_steps,\n",
        "    logging_steps=logging_steps,\n",
        "    learning_rate=learning_rate,\n",
        "    weight_decay=weight_decay,\n",
        "    fp16=fp16,\n",
        "    bf16=bf16,\n",
        "    max_grad_norm=max_grad_norm,\n",
        "    max_steps=max_steps,\n",
        "    warmup_ratio=warmup_ratio,\n",
        "    group_by_length=group_by_length,\n",
        "    lr_scheduler_type=lr_scheduler_type,\n",
        "    #report_to=\"tensorboard\"\n",
        "    report_to=[\"wandb\"],  # Add W&B here\n",
        "    run_name=\"tiny-llama-fine-tuning\"  # Optional: Set a custom run name\n",
        ")\n",
        "\n",
        "# Set supervised fine-tuning parameters\n",
        "trainer = SFTTrainer(\n",
        "    model=model,\n",
        "    train_dataset=dataset,\n",
        "    peft_config=peft_config,\n",
        "    dataset_text_field=\"text\",\n",
        "    max_seq_length=max_seq_length,\n",
        "    tokenizer=tokenizer,\n",
        "    args=training_arguments,\n",
        "    packing=packing,\n",
        ")"
      ]
    },
    {
      "cell_type": "code",
      "execution_count": null,
      "metadata": {
        "colab": {
          "base_uri": "https://localhost:8080/",
          "height": 1000
        },
        "id": "OmabOPKpf1a4",
        "outputId": "490ee796-dd8f-4eba-debd-a78223e6af62"
      },
      "outputs": [
        {
          "output_type": "stream",
          "name": "stderr",
          "text": [
            "You're using a LlamaTokenizerFast tokenizer. Please note that with a fast tokenizer, using the `__call__` method is faster than using a method to encode the text followed by a call to the `pad` method to get a padded encoding.\n",
            "/usr/local/lib/python3.10/dist-packages/torch/_dynamo/eval_frame.py:632: UserWarning: torch.utils.checkpoint: the use_reentrant parameter should be passed explicitly. In version 2.5 we will raise an exception if use_reentrant is not passed. use_reentrant=False is recommended, but if you need to preserve the current default behavior, you can pass use_reentrant=True. Refer to docs for more details on the differences between the two variants.\n",
            "  return fn(*args, **kwargs)\n"
          ]
        },
        {
          "output_type": "display_data",
          "data": {
            "text/plain": [
              "<IPython.core.display.HTML object>"
            ],
            "text/html": [
              "\n",
              "    <div>\n",
              "      \n",
              "      <progress value='750' max='750' style='width:300px; height:20px; vertical-align: middle;'></progress>\n",
              "      [750/750 11:06, Epoch 3/3]\n",
              "    </div>\n",
              "    <table border=\"1\" class=\"dataframe\">\n",
              "  <thead>\n",
              " <tr style=\"text-align: left;\">\n",
              "      <th>Step</th>\n",
              "      <th>Training Loss</th>\n",
              "    </tr>\n",
              "  </thead>\n",
              "  <tbody>\n",
              "    <tr>\n",
              "      <td>25</td>\n",
              "      <td>1.550200</td>\n",
              "    </tr>\n",
              "    <tr>\n",
              "      <td>50</td>\n",
              "      <td>1.582600</td>\n",
              "    </tr>\n",
              "    <tr>\n",
              "      <td>75</td>\n",
              "      <td>1.466300</td>\n",
              "    </tr>\n",
              "    <tr>\n",
              "      <td>100</td>\n",
              "      <td>1.475400</td>\n",
              "    </tr>\n",
              "    <tr>\n",
              "      <td>125</td>\n",
              "      <td>1.406700</td>\n",
              "    </tr>\n",
              "    <tr>\n",
              "      <td>150</td>\n",
              "      <td>1.476000</td>\n",
              "    </tr>\n",
              "    <tr>\n",
              "      <td>175</td>\n",
              "      <td>1.382100</td>\n",
              "    </tr>\n",
              "    <tr>\n",
              "      <td>200</td>\n",
              "      <td>1.459700</td>\n",
              "    </tr>\n",
              "    <tr>\n",
              "      <td>225</td>\n",
              "      <td>1.410100</td>\n",
              "    </tr>\n",
              "    <tr>\n",
              "      <td>250</td>\n",
              "      <td>1.441300</td>\n",
              "    </tr>\n",
              "    <tr>\n",
              "      <td>275</td>\n",
              "      <td>1.392400</td>\n",
              "    </tr>\n",
              "    <tr>\n",
              "      <td>300</td>\n",
              "      <td>1.464200</td>\n",
              "    </tr>\n",
              "    <tr>\n",
              "      <td>325</td>\n",
              "      <td>1.321200</td>\n",
              "    </tr>\n",
              "    <tr>\n",
              "      <td>350</td>\n",
              "      <td>1.423300</td>\n",
              "    </tr>\n",
              "    <tr>\n",
              "      <td>375</td>\n",
              "      <td>1.326100</td>\n",
              "    </tr>\n",
              "    <tr>\n",
              "      <td>400</td>\n",
              "      <td>1.396800</td>\n",
              "    </tr>\n",
              "    <tr>\n",
              "      <td>425</td>\n",
              "      <td>1.358300</td>\n",
              "    </tr>\n",
              "    <tr>\n",
              "      <td>450</td>\n",
              "      <td>1.400800</td>\n",
              "    </tr>\n",
              "    <tr>\n",
              "      <td>475</td>\n",
              "      <td>1.350600</td>\n",
              "    </tr>\n",
              "    <tr>\n",
              "      <td>500</td>\n",
              "      <td>1.369300</td>\n",
              "    </tr>\n",
              "    <tr>\n",
              "      <td>525</td>\n",
              "      <td>1.314000</td>\n",
              "    </tr>\n",
              "    <tr>\n",
              "      <td>550</td>\n",
              "      <td>1.379900</td>\n",
              "    </tr>\n",
              "    <tr>\n",
              "      <td>575</td>\n",
              "      <td>1.309900</td>\n",
              "    </tr>\n",
              "    <tr>\n",
              "      <td>600</td>\n",
              "      <td>1.358200</td>\n",
              "    </tr>\n",
              "    <tr>\n",
              "      <td>625</td>\n",
              "      <td>1.337900</td>\n",
              "    </tr>\n",
              "    <tr>\n",
              "      <td>650</td>\n",
              "      <td>1.402100</td>\n",
              "    </tr>\n",
              "    <tr>\n",
              "      <td>675</td>\n",
              "      <td>1.295100</td>\n",
              "    </tr>\n",
              "    <tr>\n",
              "      <td>700</td>\n",
              "      <td>1.386200</td>\n",
              "    </tr>\n",
              "    <tr>\n",
              "      <td>725</td>\n",
              "      <td>1.289900</td>\n",
              "    </tr>\n",
              "    <tr>\n",
              "      <td>750</td>\n",
              "      <td>1.386800</td>\n",
              "    </tr>\n",
              "  </tbody>\n",
              "</table><p>"
            ]
          },
          "metadata": {}
        }
      ],
      "source": [
        "# Train model\n",
        "trainer.train()\n",
        "\n",
        "# Save trained model\n",
        "trainer.model.save_pretrained(new_model)"
      ]
    },
    {
      "cell_type": "code",
      "execution_count": null,
      "metadata": {
        "colab": {
          "base_uri": "https://localhost:8080/"
        },
        "id": "82AgcEGKeIct",
        "outputId": "16dad4fa-42b9-4d07-c938-880559da61ed"
      },
      "outputs": [
        {
          "output_type": "stream",
          "name": "stderr",
          "text": [
            "/usr/local/lib/python3.10/dist-packages/torch/utils/checkpoint.py:87: UserWarning: None of the inputs have requires_grad=True. Gradients will be None\n",
            "  warnings.warn(\n"
          ]
        },
        {
          "output_type": "stream",
          "name": "stdout",
          "text": [
            "<s>[INST] There once was a girl named Terry [/INST] who loved to play with her toys. One day, she found a big box of toys in her room. She opened the box and saw a lot of different toys. She was so excited!\n",
            "\n",
            "Terry decided to play with the toys. She started by playing with the dolls. She put them in a special place in her room. She also played with the cars and the trains. She had so much fun!\n",
            "\n",
            "But then, Terry's mom came home. She saw the toys and was worried. She asked Terry what she was playing with. Terry told her about the toys in the box. She said they were special and she loved them.\n",
            "\n",
            "Her mom was happy to hear that. She said she would take the toys away from Terry. She said she would make sure they were safe. Terry was sad to hear this. She said she\n"
          ]
        }
      ],
      "source": [
        "# Ignore warnings\n",
        "logging.set_verbosity(logging.CRITICAL)\n",
        "\n",
        "# Run text generation pipeline with our next model, this is where you can test out the model inference\n",
        "#Try out a different prompt!\n",
        "prompt = \"There once was a girl named Terry\"\n",
        "pipe = pipeline(task=\"text-generation\", model=model, tokenizer=tokenizer, max_length=200)\n",
        "result = pipe(f\"<s>[INST] {prompt} [/INST]\")\n",
        "print(result[0]['generated_text'])"
      ]
    },
    {
      "cell_type": "code",
      "source": [
        "prompt = \"Once upon a time, in the Newyork\"\n",
        "pipe = pipeline(task=\"text-generation\", model=model, tokenizer=tokenizer, max_length=200)\n",
        "result = pipe(f\"<s>[INST] {prompt} [/INST]\")\n",
        "print(result[0]['generated_text'])"
      ],
      "metadata": {
        "colab": {
          "base_uri": "https://localhost:8080/"
        },
        "id": "OpwZnZdmOz5D",
        "outputId": "03fe75ad-0fed-44d2-dea8-927d1d80e215"
      },
      "execution_count": null,
      "outputs": [
        {
          "output_type": "stream",
          "name": "stdout",
          "text": [
            "<s>[INST] Once upon a time, in the Newyork [/INST] city, there was a little girl named Lily. She was very curious about the world around her. One day, she decided to explore the city. She went to the park and saw a big tree. She wanted to climb up the tree, but she was too small.\n",
            "\n",
            "[INST] \"Lily, can you climb up the tree?\" asked her mom.\n",
            "\n",
            "[LILY] \"No, I can't. I'm too small.\"\n",
            "\n",
            "[INST] \"Well, you can try to climb up the branches. Maybe you can find a branch that is bigger than you.\"\n",
            "\n",
            "[LILY] \"I don't know how to find a branch that is bigger than me.\"\n",
            "\n",
            "[INST] \"You can try to look around. Maybe you can find a branch that is bigger than the one you are on right\n"
          ]
        }
      ]
    },
    {
      "cell_type": "markdown",
      "source": [
        "wandb project link\n",
        "\n",
        "[link text](https://api.wandb.ai/links/poojareddykolimi-indiana-university/twcb8784)\n",
        "\n",
        "\n",
        "\n",
        "Before fine-tuning, the generated text consisted of individual sentences that were meaningful on their own but lacked a logical connection or flow, making it difficult to perceive a unified story. The sentences often appeared disjointed, with abrupt transitions and inconsistencies in tense, which detracted from the overall narrative quality. This behavior is indicative of a general-purpose language model that has not been specifically trained for storytelling or maintaining narrative coherence over extended sequences.\n",
        "\n",
        "After fine-tuning, the model demonstrated a significant improvement in generating text that resembled a narrative. The sentences were no longer standalone but interconnected, following a logical progression that mimicked the structure of a story. Tense usage became consistent throughout the generated text, enhancing the readability and immersion of the output. The fine-tuned model's ability to maintain narrative continuity is a direct result of the fine-tuning process, which exposed the model to storytelling-specific datasets, helping it learn the intricacies of crafting coherent and engaging narratives."
      ],
      "metadata": {
        "id": "Z5_4fS_sb6jj"
      }
    }
  ],
  "metadata": {
    "accelerator": "GPU",
    "colab": {
      "gpuType": "T4",
      "provenance": [],
      "include_colab_link": true
    },
    "kernelspec": {
      "display_name": "Python 3",
      "name": "python3"
    },
    "language_info": {
      "name": "python"
    },
    "widgets": {
      "application/vnd.jupyter.widget-state+json": {
        "8449d603d9e04ff6be1b4d9c7007aa83": {
          "model_module": "@jupyter-widgets/controls",
          "model_name": "HBoxModel",
          "model_module_version": "1.5.0",
          "state": {
            "_dom_classes": [],
            "_model_module": "@jupyter-widgets/controls",
            "_model_module_version": "1.5.0",
            "_model_name": "HBoxModel",
            "_view_count": null,
            "_view_module": "@jupyter-widgets/controls",
            "_view_module_version": "1.5.0",
            "_view_name": "HBoxView",
            "box_style": "",
            "children": [
              "IPY_MODEL_1179e01928904d858a3d0f2e903c30aa",
              "IPY_MODEL_1086101f40c649ea85f6683904e556f0",
              "IPY_MODEL_8ec958e3c49445fa9e9406625b51e35a"
            ],
            "layout": "IPY_MODEL_4af98390d56449ecb2f1acb8e1265fd3"
          }
        },
        "1179e01928904d858a3d0f2e903c30aa": {
          "model_module": "@jupyter-widgets/controls",
          "model_name": "HTMLModel",
          "model_module_version": "1.5.0",
          "state": {
            "_dom_classes": [],
            "_model_module": "@jupyter-widgets/controls",
            "_model_module_version": "1.5.0",
            "_model_name": "HTMLModel",
            "_view_count": null,
            "_view_module": "@jupyter-widgets/controls",
            "_view_module_version": "1.5.0",
            "_view_name": "HTMLView",
            "description": "",
            "description_tooltip": null,
            "layout": "IPY_MODEL_827ea3e95a2743fbb920b87f8502a35e",
            "placeholder": "​",
            "style": "IPY_MODEL_5ac4ffa2d7c04872aaa196925c2b00f9",
            "value": "Map: 100%"
          }
        },
        "1086101f40c649ea85f6683904e556f0": {
          "model_module": "@jupyter-widgets/controls",
          "model_name": "FloatProgressModel",
          "model_module_version": "1.5.0",
          "state": {
            "_dom_classes": [],
            "_model_module": "@jupyter-widgets/controls",
            "_model_module_version": "1.5.0",
            "_model_name": "FloatProgressModel",
            "_view_count": null,
            "_view_module": "@jupyter-widgets/controls",
            "_view_module_version": "1.5.0",
            "_view_name": "ProgressView",
            "bar_style": "success",
            "description": "",
            "description_tooltip": null,
            "layout": "IPY_MODEL_2d93701b629442fa83ad08a29f6822ae",
            "max": 999,
            "min": 0,
            "orientation": "horizontal",
            "style": "IPY_MODEL_4ecdd1fb26f54994a9eee403cfc737c1",
            "value": 999
          }
        },
        "8ec958e3c49445fa9e9406625b51e35a": {
          "model_module": "@jupyter-widgets/controls",
          "model_name": "HTMLModel",
          "model_module_version": "1.5.0",
          "state": {
            "_dom_classes": [],
            "_model_module": "@jupyter-widgets/controls",
            "_model_module_version": "1.5.0",
            "_model_name": "HTMLModel",
            "_view_count": null,
            "_view_module": "@jupyter-widgets/controls",
            "_view_module_version": "1.5.0",
            "_view_name": "HTMLView",
            "description": "",
            "description_tooltip": null,
            "layout": "IPY_MODEL_89374bc21fea4336a3317cab23d90535",
            "placeholder": "​",
            "style": "IPY_MODEL_bbeb1dbd97f54c0e900fa64d8bd3a280",
            "value": " 999/999 [00:00&lt;00:00, 1583.63 examples/s]"
          }
        },
        "4af98390d56449ecb2f1acb8e1265fd3": {
          "model_module": "@jupyter-widgets/base",
          "model_name": "LayoutModel",
          "model_module_version": "1.2.0",
          "state": {
            "_model_module": "@jupyter-widgets/base",
            "_model_module_version": "1.2.0",
            "_model_name": "LayoutModel",
            "_view_count": null,
            "_view_module": "@jupyter-widgets/base",
            "_view_module_version": "1.2.0",
            "_view_name": "LayoutView",
            "align_content": null,
            "align_items": null,
            "align_self": null,
            "border": null,
            "bottom": null,
            "display": null,
            "flex": null,
            "flex_flow": null,
            "grid_area": null,
            "grid_auto_columns": null,
            "grid_auto_flow": null,
            "grid_auto_rows": null,
            "grid_column": null,
            "grid_gap": null,
            "grid_row": null,
            "grid_template_areas": null,
            "grid_template_columns": null,
            "grid_template_rows": null,
            "height": null,
            "justify_content": null,
            "justify_items": null,
            "left": null,
            "margin": null,
            "max_height": null,
            "max_width": null,
            "min_height": null,
            "min_width": null,
            "object_fit": null,
            "object_position": null,
            "order": null,
            "overflow": null,
            "overflow_x": null,
            "overflow_y": null,
            "padding": null,
            "right": null,
            "top": null,
            "visibility": null,
            "width": null
          }
        },
        "827ea3e95a2743fbb920b87f8502a35e": {
          "model_module": "@jupyter-widgets/base",
          "model_name": "LayoutModel",
          "model_module_version": "1.2.0",
          "state": {
            "_model_module": "@jupyter-widgets/base",
            "_model_module_version": "1.2.0",
            "_model_name": "LayoutModel",
            "_view_count": null,
            "_view_module": "@jupyter-widgets/base",
            "_view_module_version": "1.2.0",
            "_view_name": "LayoutView",
            "align_content": null,
            "align_items": null,
            "align_self": null,
            "border": null,
            "bottom": null,
            "display": null,
            "flex": null,
            "flex_flow": null,
            "grid_area": null,
            "grid_auto_columns": null,
            "grid_auto_flow": null,
            "grid_auto_rows": null,
            "grid_column": null,
            "grid_gap": null,
            "grid_row": null,
            "grid_template_areas": null,
            "grid_template_columns": null,
            "grid_template_rows": null,
            "height": null,
            "justify_content": null,
            "justify_items": null,
            "left": null,
            "margin": null,
            "max_height": null,
            "max_width": null,
            "min_height": null,
            "min_width": null,
            "object_fit": null,
            "object_position": null,
            "order": null,
            "overflow": null,
            "overflow_x": null,
            "overflow_y": null,
            "padding": null,
            "right": null,
            "top": null,
            "visibility": null,
            "width": null
          }
        },
        "5ac4ffa2d7c04872aaa196925c2b00f9": {
          "model_module": "@jupyter-widgets/controls",
          "model_name": "DescriptionStyleModel",
          "model_module_version": "1.5.0",
          "state": {
            "_model_module": "@jupyter-widgets/controls",
            "_model_module_version": "1.5.0",
            "_model_name": "DescriptionStyleModel",
            "_view_count": null,
            "_view_module": "@jupyter-widgets/base",
            "_view_module_version": "1.2.0",
            "_view_name": "StyleView",
            "description_width": ""
          }
        },
        "2d93701b629442fa83ad08a29f6822ae": {
          "model_module": "@jupyter-widgets/base",
          "model_name": "LayoutModel",
          "model_module_version": "1.2.0",
          "state": {
            "_model_module": "@jupyter-widgets/base",
            "_model_module_version": "1.2.0",
            "_model_name": "LayoutModel",
            "_view_count": null,
            "_view_module": "@jupyter-widgets/base",
            "_view_module_version": "1.2.0",
            "_view_name": "LayoutView",
            "align_content": null,
            "align_items": null,
            "align_self": null,
            "border": null,
            "bottom": null,
            "display": null,
            "flex": null,
            "flex_flow": null,
            "grid_area": null,
            "grid_auto_columns": null,
            "grid_auto_flow": null,
            "grid_auto_rows": null,
            "grid_column": null,
            "grid_gap": null,
            "grid_row": null,
            "grid_template_areas": null,
            "grid_template_columns": null,
            "grid_template_rows": null,
            "height": null,
            "justify_content": null,
            "justify_items": null,
            "left": null,
            "margin": null,
            "max_height": null,
            "max_width": null,
            "min_height": null,
            "min_width": null,
            "object_fit": null,
            "object_position": null,
            "order": null,
            "overflow": null,
            "overflow_x": null,
            "overflow_y": null,
            "padding": null,
            "right": null,
            "top": null,
            "visibility": null,
            "width": null
          }
        },
        "4ecdd1fb26f54994a9eee403cfc737c1": {
          "model_module": "@jupyter-widgets/controls",
          "model_name": "ProgressStyleModel",
          "model_module_version": "1.5.0",
          "state": {
            "_model_module": "@jupyter-widgets/controls",
            "_model_module_version": "1.5.0",
            "_model_name": "ProgressStyleModel",
            "_view_count": null,
            "_view_module": "@jupyter-widgets/base",
            "_view_module_version": "1.2.0",
            "_view_name": "StyleView",
            "bar_color": null,
            "description_width": ""
          }
        },
        "89374bc21fea4336a3317cab23d90535": {
          "model_module": "@jupyter-widgets/base",
          "model_name": "LayoutModel",
          "model_module_version": "1.2.0",
          "state": {
            "_model_module": "@jupyter-widgets/base",
            "_model_module_version": "1.2.0",
            "_model_name": "LayoutModel",
            "_view_count": null,
            "_view_module": "@jupyter-widgets/base",
            "_view_module_version": "1.2.0",
            "_view_name": "LayoutView",
            "align_content": null,
            "align_items": null,
            "align_self": null,
            "border": null,
            "bottom": null,
            "display": null,
            "flex": null,
            "flex_flow": null,
            "grid_area": null,
            "grid_auto_columns": null,
            "grid_auto_flow": null,
            "grid_auto_rows": null,
            "grid_column": null,
            "grid_gap": null,
            "grid_row": null,
            "grid_template_areas": null,
            "grid_template_columns": null,
            "grid_template_rows": null,
            "height": null,
            "justify_content": null,
            "justify_items": null,
            "left": null,
            "margin": null,
            "max_height": null,
            "max_width": null,
            "min_height": null,
            "min_width": null,
            "object_fit": null,
            "object_position": null,
            "order": null,
            "overflow": null,
            "overflow_x": null,
            "overflow_y": null,
            "padding": null,
            "right": null,
            "top": null,
            "visibility": null,
            "width": null
          }
        },
        "bbeb1dbd97f54c0e900fa64d8bd3a280": {
          "model_module": "@jupyter-widgets/controls",
          "model_name": "DescriptionStyleModel",
          "model_module_version": "1.5.0",
          "state": {
            "_model_module": "@jupyter-widgets/controls",
            "_model_module_version": "1.5.0",
            "_model_name": "DescriptionStyleModel",
            "_view_count": null,
            "_view_module": "@jupyter-widgets/base",
            "_view_module_version": "1.2.0",
            "_view_name": "StyleView",
            "description_width": ""
          }
        }
      }
    }
  },
  "nbformat": 4,
  "nbformat_minor": 0
}